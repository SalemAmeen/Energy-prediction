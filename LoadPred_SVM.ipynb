{
  "nbformat": 4,
  "nbformat_minor": 0,
  "metadata": {
    "colab": {
      "name": "LoadPred-SVM.ipynb",
      "provenance": [],
      "collapsed_sections": [
        "pmMYTdRB_Ue4",
        "RonO10Q2sbM3",
        "e41DtSANwmM2",
        "kVZgMhqVy61h",
        "eycwXia2ykJh",
        "IpXnRgiYytk0",
        "9TVXXvYUyz0m"
      ],
      "toc_visible": true
    },
    "kernelspec": {
      "name": "python3",
      "display_name": "Python 3"
    },
    "language_info": {
      "name": "python"
    },
    "gpuClass": "standard"
  },
  "cells": [
    {
      "cell_type": "code",
      "execution_count": 1,
      "metadata": {
        "id": "92qdh-JUBSI5"
      },
      "outputs": [],
      "source": [
        "import os\n",
        "import joblib\n",
        "import time\n",
        "import numpy as np\n",
        "import pandas as pd\n",
        "import sklearn as sk\n",
        "import scipy.stats as stats\n",
        "import matplotlib.pyplot as plt\n",
        "from sklearn.utils import shuffle\n",
        "from sklearn.model_selection import train_test_split, GridSearchCV\n",
        "from sklearn.compose import ColumnTransformer\n",
        "from sklearn.base import BaseEstimator, TransformerMixin\n",
        "from sklearn.impute import SimpleImputer\n",
        "from sklearn.cluster import KMeans, SpectralClustering\n",
        "from sklearn.preprocessing import StandardScaler, OneHotEncoder, OrdinalEncoder\n",
        "from sklearn.pipeline import Pipeline\n",
        "from sklearn.metrics import classification_report, f1_score\n",
        "from sklearn.ensemble import RandomForestClassifier\n",
        "import imblearn.pipeline as pl\n",
        "from imblearn.pipeline import make_pipeline\n",
        "from imblearn.over_sampling import RandomOverSampler\n",
        "from imblearn.over_sampling import SMOTE, SVMSMOTE\n",
        "plt.style.use('seaborn')\n",
        "%matplotlib inline"
      ]
    },
    {
      "cell_type": "code",
      "source": [
        "from google.colab import drive\n",
        "drive.mount('/content/drive')"
      ],
      "metadata": {
        "colab": {
          "base_uri": "https://localhost:8080/"
        },
        "id": "1APRp-RvoN6N",
        "outputId": "7fb5b9af-caf5-4bd0-d3ab-8140f5015123"
      },
      "execution_count": 2,
      "outputs": [
        {
          "output_type": "stream",
          "name": "stdout",
          "text": [
            "Mounted at /content/drive\n"
          ]
        }
      ]
    },
    {
      "cell_type": "code",
      "source": [
        "df = pd.read_csv('/content/drive/MyDrive/FinalTestData.csv')"
      ],
      "metadata": {
        "id": "UTXspjvFoYCl",
        "colab": {
          "base_uri": "https://localhost:8080/"
        },
        "outputId": "54e750fd-c632-4eb4-ce28-273ab25538b6"
      },
      "execution_count": 3,
      "outputs": [
        {
          "output_type": "stream",
          "name": "stderr",
          "text": [
            "/usr/local/lib/python3.7/dist-packages/IPython/core/interactiveshell.py:3326: DtypeWarning: Columns (0) have mixed types.Specify dtype option on import or set low_memory=False.\n",
            "  exec(code_obj, self.user_global_ns, self.user_ns)\n"
          ]
        }
      ]
    },
    {
      "cell_type": "code",
      "source": [
        "df.head()"
      ],
      "metadata": {
        "colab": {
          "base_uri": "https://localhost:8080/",
          "height": 300
        },
        "id": "DQPi_-nAoaXO",
        "outputId": "7efec7e7-28f0-478b-a274-012e38598c3c"
      },
      "execution_count": 4,
      "outputs": [
        {
          "output_type": "execute_result",
          "data": {
            "text/plain": [
              "                  date  total_usg  mels_S  lig_S  mels_N     hvac_N  \\\n",
              "0  9/15/201810:00:00AM      76.35   2.320    0.1   8.725  39.574500   \n",
              "1  9/15/201810:15:00AM      69.18   2.290    0.1   8.500  38.684286   \n",
              "2  9/15/201810:30:00AM      52.15   2.295    0.1   8.275  22.583333   \n",
              "3  9/15/201810:45:00AM      57.18   2.300    0.1   8.050  27.665789   \n",
              "4  9/15/201811:00:00AM      68.92   2.100    0.1   8.350  38.834000   \n",
              "\n",
              "      hvac_S  air_temp_set_1  air_temp_set_2  dew_point_temperature_set_1d  \\\n",
              "0  25.629500           12.21           12.23                          8.90   \n",
              "1  19.606154           12.07           11.97                          9.56   \n",
              "2  18.893684           12.11           11.97                          9.85   \n",
              "3  19.060000           12.02           11.91                          9.88   \n",
              "4  19.538500           11.94           11.83                          9.80   \n",
              "\n",
              "   ...  rtu_003_pa_static_stpt_tn  rtu_004_pa_static_stpt_tn  rtu_001_sa_temp  \\\n",
              "0  ...                        0.6                       0.06             67.9   \n",
              "1  ...                        0.6                       0.06             67.6   \n",
              "2  ...                        0.6                       0.06             67.4   \n",
              "3  ...                        0.6                       0.06             68.3   \n",
              "4  ...                        0.6                       0.06             68.4   \n",
              "\n",
              "   rtu_002_sa_temp  rtu_003_sa_temp  rtu_004_sa_temp  rtu_001_sat_sp_tn  \\\n",
              "0             64.5             65.2             67.8               68.0   \n",
              "1             63.8             65.0             69.0               68.0   \n",
              "2             63.6             62.7             69.1               68.0   \n",
              "3             63.8             64.8             68.2               68.0   \n",
              "4             63.6             63.2             66.9               68.0   \n",
              "\n",
              "   rtu_002_sat_sp_tn  rtu_003_sat_sp_tn  rtu_004_sat_sp_tn  \n",
              "0               65.0               64.0               68.0  \n",
              "1               65.0               64.0               68.0  \n",
              "2               65.0               64.0               68.0  \n",
              "3               65.0               64.0               68.0  \n",
              "4               65.0               64.0               68.0  \n",
              "\n",
              "[5 rows x 167 columns]"
            ],
            "text/html": [
              "\n",
              "  <div id=\"df-57ff0864-39e6-4770-919a-b0a27d112150\">\n",
              "    <div class=\"colab-df-container\">\n",
              "      <div>\n",
              "<style scoped>\n",
              "    .dataframe tbody tr th:only-of-type {\n",
              "        vertical-align: middle;\n",
              "    }\n",
              "\n",
              "    .dataframe tbody tr th {\n",
              "        vertical-align: top;\n",
              "    }\n",
              "\n",
              "    .dataframe thead th {\n",
              "        text-align: right;\n",
              "    }\n",
              "</style>\n",
              "<table border=\"1\" class=\"dataframe\">\n",
              "  <thead>\n",
              "    <tr style=\"text-align: right;\">\n",
              "      <th></th>\n",
              "      <th>date</th>\n",
              "      <th>total_usg</th>\n",
              "      <th>mels_S</th>\n",
              "      <th>lig_S</th>\n",
              "      <th>mels_N</th>\n",
              "      <th>hvac_N</th>\n",
              "      <th>hvac_S</th>\n",
              "      <th>air_temp_set_1</th>\n",
              "      <th>air_temp_set_2</th>\n",
              "      <th>dew_point_temperature_set_1d</th>\n",
              "      <th>...</th>\n",
              "      <th>rtu_003_pa_static_stpt_tn</th>\n",
              "      <th>rtu_004_pa_static_stpt_tn</th>\n",
              "      <th>rtu_001_sa_temp</th>\n",
              "      <th>rtu_002_sa_temp</th>\n",
              "      <th>rtu_003_sa_temp</th>\n",
              "      <th>rtu_004_sa_temp</th>\n",
              "      <th>rtu_001_sat_sp_tn</th>\n",
              "      <th>rtu_002_sat_sp_tn</th>\n",
              "      <th>rtu_003_sat_sp_tn</th>\n",
              "      <th>rtu_004_sat_sp_tn</th>\n",
              "    </tr>\n",
              "  </thead>\n",
              "  <tbody>\n",
              "    <tr>\n",
              "      <th>0</th>\n",
              "      <td>9/15/201810:00:00AM</td>\n",
              "      <td>76.35</td>\n",
              "      <td>2.320</td>\n",
              "      <td>0.1</td>\n",
              "      <td>8.725</td>\n",
              "      <td>39.574500</td>\n",
              "      <td>25.629500</td>\n",
              "      <td>12.21</td>\n",
              "      <td>12.23</td>\n",
              "      <td>8.90</td>\n",
              "      <td>...</td>\n",
              "      <td>0.6</td>\n",
              "      <td>0.06</td>\n",
              "      <td>67.9</td>\n",
              "      <td>64.5</td>\n",
              "      <td>65.2</td>\n",
              "      <td>67.8</td>\n",
              "      <td>68.0</td>\n",
              "      <td>65.0</td>\n",
              "      <td>64.0</td>\n",
              "      <td>68.0</td>\n",
              "    </tr>\n",
              "    <tr>\n",
              "      <th>1</th>\n",
              "      <td>9/15/201810:15:00AM</td>\n",
              "      <td>69.18</td>\n",
              "      <td>2.290</td>\n",
              "      <td>0.1</td>\n",
              "      <td>8.500</td>\n",
              "      <td>38.684286</td>\n",
              "      <td>19.606154</td>\n",
              "      <td>12.07</td>\n",
              "      <td>11.97</td>\n",
              "      <td>9.56</td>\n",
              "      <td>...</td>\n",
              "      <td>0.6</td>\n",
              "      <td>0.06</td>\n",
              "      <td>67.6</td>\n",
              "      <td>63.8</td>\n",
              "      <td>65.0</td>\n",
              "      <td>69.0</td>\n",
              "      <td>68.0</td>\n",
              "      <td>65.0</td>\n",
              "      <td>64.0</td>\n",
              "      <td>68.0</td>\n",
              "    </tr>\n",
              "    <tr>\n",
              "      <th>2</th>\n",
              "      <td>9/15/201810:30:00AM</td>\n",
              "      <td>52.15</td>\n",
              "      <td>2.295</td>\n",
              "      <td>0.1</td>\n",
              "      <td>8.275</td>\n",
              "      <td>22.583333</td>\n",
              "      <td>18.893684</td>\n",
              "      <td>12.11</td>\n",
              "      <td>11.97</td>\n",
              "      <td>9.85</td>\n",
              "      <td>...</td>\n",
              "      <td>0.6</td>\n",
              "      <td>0.06</td>\n",
              "      <td>67.4</td>\n",
              "      <td>63.6</td>\n",
              "      <td>62.7</td>\n",
              "      <td>69.1</td>\n",
              "      <td>68.0</td>\n",
              "      <td>65.0</td>\n",
              "      <td>64.0</td>\n",
              "      <td>68.0</td>\n",
              "    </tr>\n",
              "    <tr>\n",
              "      <th>3</th>\n",
              "      <td>9/15/201810:45:00AM</td>\n",
              "      <td>57.18</td>\n",
              "      <td>2.300</td>\n",
              "      <td>0.1</td>\n",
              "      <td>8.050</td>\n",
              "      <td>27.665789</td>\n",
              "      <td>19.060000</td>\n",
              "      <td>12.02</td>\n",
              "      <td>11.91</td>\n",
              "      <td>9.88</td>\n",
              "      <td>...</td>\n",
              "      <td>0.6</td>\n",
              "      <td>0.06</td>\n",
              "      <td>68.3</td>\n",
              "      <td>63.8</td>\n",
              "      <td>64.8</td>\n",
              "      <td>68.2</td>\n",
              "      <td>68.0</td>\n",
              "      <td>65.0</td>\n",
              "      <td>64.0</td>\n",
              "      <td>68.0</td>\n",
              "    </tr>\n",
              "    <tr>\n",
              "      <th>4</th>\n",
              "      <td>9/15/201811:00:00AM</td>\n",
              "      <td>68.92</td>\n",
              "      <td>2.100</td>\n",
              "      <td>0.1</td>\n",
              "      <td>8.350</td>\n",
              "      <td>38.834000</td>\n",
              "      <td>19.538500</td>\n",
              "      <td>11.94</td>\n",
              "      <td>11.83</td>\n",
              "      <td>9.80</td>\n",
              "      <td>...</td>\n",
              "      <td>0.6</td>\n",
              "      <td>0.06</td>\n",
              "      <td>68.4</td>\n",
              "      <td>63.6</td>\n",
              "      <td>63.2</td>\n",
              "      <td>66.9</td>\n",
              "      <td>68.0</td>\n",
              "      <td>65.0</td>\n",
              "      <td>64.0</td>\n",
              "      <td>68.0</td>\n",
              "    </tr>\n",
              "  </tbody>\n",
              "</table>\n",
              "<p>5 rows × 167 columns</p>\n",
              "</div>\n",
              "      <button class=\"colab-df-convert\" onclick=\"convertToInteractive('df-57ff0864-39e6-4770-919a-b0a27d112150')\"\n",
              "              title=\"Convert this dataframe to an interactive table.\"\n",
              "              style=\"display:none;\">\n",
              "        \n",
              "  <svg xmlns=\"http://www.w3.org/2000/svg\" height=\"24px\"viewBox=\"0 0 24 24\"\n",
              "       width=\"24px\">\n",
              "    <path d=\"M0 0h24v24H0V0z\" fill=\"none\"/>\n",
              "    <path d=\"M18.56 5.44l.94 2.06.94-2.06 2.06-.94-2.06-.94-.94-2.06-.94 2.06-2.06.94zm-11 1L8.5 8.5l.94-2.06 2.06-.94-2.06-.94L8.5 2.5l-.94 2.06-2.06.94zm10 10l.94 2.06.94-2.06 2.06-.94-2.06-.94-.94-2.06-.94 2.06-2.06.94z\"/><path d=\"M17.41 7.96l-1.37-1.37c-.4-.4-.92-.59-1.43-.59-.52 0-1.04.2-1.43.59L10.3 9.45l-7.72 7.72c-.78.78-.78 2.05 0 2.83L4 21.41c.39.39.9.59 1.41.59.51 0 1.02-.2 1.41-.59l7.78-7.78 2.81-2.81c.8-.78.8-2.07 0-2.86zM5.41 20L4 18.59l7.72-7.72 1.47 1.35L5.41 20z\"/>\n",
              "  </svg>\n",
              "      </button>\n",
              "      \n",
              "  <style>\n",
              "    .colab-df-container {\n",
              "      display:flex;\n",
              "      flex-wrap:wrap;\n",
              "      gap: 12px;\n",
              "    }\n",
              "\n",
              "    .colab-df-convert {\n",
              "      background-color: #E8F0FE;\n",
              "      border: none;\n",
              "      border-radius: 50%;\n",
              "      cursor: pointer;\n",
              "      display: none;\n",
              "      fill: #1967D2;\n",
              "      height: 32px;\n",
              "      padding: 0 0 0 0;\n",
              "      width: 32px;\n",
              "    }\n",
              "\n",
              "    .colab-df-convert:hover {\n",
              "      background-color: #E2EBFA;\n",
              "      box-shadow: 0px 1px 2px rgba(60, 64, 67, 0.3), 0px 1px 3px 1px rgba(60, 64, 67, 0.15);\n",
              "      fill: #174EA6;\n",
              "    }\n",
              "\n",
              "    [theme=dark] .colab-df-convert {\n",
              "      background-color: #3B4455;\n",
              "      fill: #D2E3FC;\n",
              "    }\n",
              "\n",
              "    [theme=dark] .colab-df-convert:hover {\n",
              "      background-color: #434B5C;\n",
              "      box-shadow: 0px 1px 3px 1px rgba(0, 0, 0, 0.15);\n",
              "      filter: drop-shadow(0px 1px 2px rgba(0, 0, 0, 0.3));\n",
              "      fill: #FFFFFF;\n",
              "    }\n",
              "  </style>\n",
              "\n",
              "      <script>\n",
              "        const buttonEl =\n",
              "          document.querySelector('#df-57ff0864-39e6-4770-919a-b0a27d112150 button.colab-df-convert');\n",
              "        buttonEl.style.display =\n",
              "          google.colab.kernel.accessAllowed ? 'block' : 'none';\n",
              "\n",
              "        async function convertToInteractive(key) {\n",
              "          const element = document.querySelector('#df-57ff0864-39e6-4770-919a-b0a27d112150');\n",
              "          const dataTable =\n",
              "            await google.colab.kernel.invokeFunction('convertToInteractive',\n",
              "                                                     [key], {});\n",
              "          if (!dataTable) return;\n",
              "\n",
              "          const docLinkHtml = 'Like what you see? Visit the ' +\n",
              "            '<a target=\"_blank\" href=https://colab.research.google.com/notebooks/data_table.ipynb>data table notebook</a>'\n",
              "            + ' to learn more about interactive tables.';\n",
              "          element.innerHTML = '';\n",
              "          dataTable['output_type'] = 'display_data';\n",
              "          await google.colab.output.renderOutput(dataTable, element);\n",
              "          const docLink = document.createElement('div');\n",
              "          docLink.innerHTML = docLinkHtml;\n",
              "          element.appendChild(docLink);\n",
              "        }\n",
              "      </script>\n",
              "    </div>\n",
              "  </div>\n",
              "  "
            ]
          },
          "metadata": {},
          "execution_count": 4
        }
      ]
    },
    {
      "cell_type": "code",
      "source": [
        "df.fillna(df.mean(), inplace=True)"
      ],
      "metadata": {
        "colab": {
          "base_uri": "https://localhost:8080/"
        },
        "id": "4s9vxrx-ocT3",
        "outputId": "9504243d-692d-469a-b356-47a0cc42b703"
      },
      "execution_count": 8,
      "outputs": [
        {
          "output_type": "stream",
          "name": "stderr",
          "text": [
            "/usr/local/lib/python3.7/dist-packages/ipykernel_launcher.py:1: FutureWarning: Dropping of nuisance columns in DataFrame reductions (with 'numeric_only=None') is deprecated; in a future version this will raise TypeError.  Select only valid columns before calling the reduction.\n",
            "  \"\"\"Entry point for launching an IPython kernel.\n"
          ]
        }
      ]
    },
    {
      "cell_type": "markdown",
      "source": [
        "#Variance Inflation Factor"
      ],
      "metadata": {
        "id": "55S6J4JY8Eus"
      }
    },
    {
      "cell_type": "code",
      "source": [
        "from statsmodels.stats.outliers_influence import variance_inflation_factor\n",
        "\n",
        "X= df[['total_usg', 'air_temp_set_1','air_temp_set_2','dew_point_temperature_set_1d','relative_humidity_set_1','solar_radiation_set_1']]\n",
        "\n",
        "# VIF dataframe\n",
        "vif_data = pd.DataFrame()\n",
        "vif_data[\"feature\"] = X.columns\n",
        "\n",
        "# calculating VIF for each feature\n",
        "vif_data[\"VIF\"] = [variance_inflation_factor(X.values, i)\n",
        "                          for i in range(len(X.columns))]\n",
        "  \n",
        "print(vif_data)"
      ],
      "metadata": {
        "colab": {
          "base_uri": "https://localhost:8080/"
        },
        "id": "YinDHqgU6wdg",
        "outputId": "2a54eed6-fac6-45ab-a831-3676aa06efaa"
      },
      "execution_count": null,
      "outputs": [
        {
          "output_type": "stream",
          "name": "stderr",
          "text": [
            "/usr/local/lib/python3.7/dist-packages/statsmodels/tools/_testing.py:19: FutureWarning: pandas.util.testing is deprecated. Use the functions in the public API at pandas.testing instead.\n",
            "  import pandas.util.testing as tm\n"
          ]
        },
        {
          "output_type": "stream",
          "name": "stdout",
          "text": [
            "                        feature         VIF\n",
            "0                     total_usg   10.201325\n",
            "1                air_temp_set_1  399.221703\n",
            "2                air_temp_set_2  368.126290\n",
            "3  dew_point_temperature_set_1d    5.864739\n",
            "4       relative_humidity_set_1    8.600878\n",
            "5         solar_radiation_set_1    3.709432\n"
          ]
        }
      ]
    },
    {
      "cell_type": "markdown",
      "source": [
        "#Preprocessing"
      ],
      "metadata": {
        "id": "odxS7oDg2f4P"
      }
    },
    {
      "cell_type": "code",
      "source": [
        "# Normalizing the data\n",
        "from sklearn import preprocessing\n",
        "x=df.drop(columns=['date','total_usg','mels_S','lig_S','mels_N','hvac_S','hvac_N'])\n",
        "y=df['total_usg']\n",
        "x = preprocessing.normalize(x)"
      ],
      "metadata": {
        "id": "ZtvngrvWomq_"
      },
      "execution_count": 16,
      "outputs": []
    },
    {
      "cell_type": "code",
      "source": [
        "#Splitting the dataset\n",
        "from sklearn.model_selection import train_test_split\n",
        "x_train, x_test, y_train, y_test = train_test_split(x, y, test_size = 0.1, random_state = 0)"
      ],
      "metadata": {
        "id": "3oy8FTh-onpX"
      },
      "execution_count": 17,
      "outputs": []
    },
    {
      "cell_type": "markdown",
      "source": [
        "#DummyRegressor"
      ],
      "metadata": {
        "id": "pmMYTdRB_Ue4"
      }
    },
    {
      "cell_type": "code",
      "source": [
        "from sklearn.dummy import DummyRegressor\n",
        "dummy_regr = DummyRegressor(strategy=\"median\")\n",
        "\n",
        "dummy_regr.fit(x_train, y_train)\n",
        "y_pred=dummy_regr.predict(x_test)"
      ],
      "metadata": {
        "id": "9Rq0brJY_Wna"
      },
      "execution_count": null,
      "outputs": []
    },
    {
      "cell_type": "code",
      "source": [
        "from sklearn.metrics import r2_score\n",
        "r = r2_score(y_test, y_pred )\n",
        "\n",
        "print(\"R score:\",r)"
      ],
      "metadata": {
        "colab": {
          "base_uri": "https://localhost:8080/"
        },
        "id": "Bter7qDC_wF5",
        "outputId": "59357278-03f2-42ca-ec7d-7e83e328167a"
      },
      "execution_count": null,
      "outputs": [
        {
          "output_type": "stream",
          "name": "stdout",
          "text": [
            "R score: -4.5243174207065806e-07\n"
          ]
        }
      ]
    },
    {
      "cell_type": "markdown",
      "source": [
        "#Random Forest Regression\n"
      ],
      "metadata": {
        "id": "beJKsH6U1R8M"
      }
    },
    {
      "cell_type": "code",
      "source": [
        "from sklearn.ensemble import RandomForestRegressor\n",
        "\n",
        "regr = RandomForestRegressor(max_depth=2, random_state=0)\n",
        "\n",
        "regr.fit(x_train, y_train)\n",
        "\n",
        "y_pred = regr.predict(x_test)"
      ],
      "metadata": {
        "id": "Bk8hqjWe1eL1"
      },
      "execution_count": null,
      "outputs": []
    },
    {
      "cell_type": "code",
      "source": [
        "from sklearn.metrics import mean_squared_error\n",
        "from sklearn.metrics import mean_absolute_error\n",
        "from sklearn.metrics import r2_score\n",
        "\n",
        "mse = mean_squared_error(y_test, y_pred)\n",
        "r = r2_score(y_test, y_pred)\n",
        "mae = mean_absolute_error(y_test,y_pred)\n",
        "print(\"Mean Squared Error:\",mse)\n",
        "print(\"R score:\",r)\n",
        "print(\"Mean Absolute Error:\",mae)"
      ],
      "metadata": {
        "id": "hMlfsAxV14UB"
      },
      "execution_count": null,
      "outputs": []
    },
    {
      "cell_type": "markdown",
      "source": [
        "#Simple SVM"
      ],
      "metadata": {
        "id": "RonO10Q2sbM3"
      }
    },
    {
      "cell_type": "code",
      "source": [
        "from sklearn import svm\n",
        "\n",
        "regress= svm.SVR()\n",
        "regress.fit(x_train,y_train)\n"
      ],
      "metadata": {
        "id": "o3VyQRYdseoq",
        "colab": {
          "base_uri": "https://localhost:8080/"
        },
        "outputId": "a22c49b6-c3d3-443e-86a4-c8c904e35725"
      },
      "execution_count": null,
      "outputs": [
        {
          "output_type": "execute_result",
          "data": {
            "text/plain": [
              "SVR()"
            ]
          },
          "metadata": {},
          "execution_count": 8
        }
      ]
    },
    {
      "cell_type": "code",
      "source": [
        "y_pred= regress.predict(x_test)"
      ],
      "metadata": {
        "id": "RuLatCLQUno2"
      },
      "execution_count": null,
      "outputs": []
    },
    {
      "cell_type": "code",
      "source": [
        "from sklearn.metrics import mean_squared_error\n",
        "from sklearn.metrics import mean_absolute_error\n",
        "from sklearn.metrics import r2_score\n",
        "\n",
        "mse = mean_squared_error(y_test, y_pred)\n",
        "r = r2_score(y_test, y_pred)\n",
        "mae = mean_absolute_error(y_test,y_pred)\n",
        "print(\"Mean Squared Error:\",mse)\n",
        "print(\"R score:\",r)\n",
        "print(\"Mean Absolute Error:\",mae)"
      ],
      "metadata": {
        "colab": {
          "base_uri": "https://localhost:8080/"
        },
        "id": "1OC92jultDXk",
        "outputId": "42bc8adb-746c-4bb5-a243-7d6c7f2a7907"
      },
      "execution_count": null,
      "outputs": [
        {
          "output_type": "stream",
          "name": "stdout",
          "text": [
            "Mean Squared Error: 352.15103331914736\n",
            "R score: 0.17076256256264122\n",
            "Mean Absolute Error: 12.344940595868593\n"
          ]
        }
      ]
    },
    {
      "cell_type": "markdown",
      "source": [
        "#Grid Search"
      ],
      "metadata": {
        "id": "e41DtSANwmM2"
      }
    },
    {
      "cell_type": "code",
      "source": [
        "from sklearn.model_selection import GridSearchCV\n",
        "from sklearn import svm\n",
        "# defining parameter range\n",
        "param_grid = {'C': [0.1, 1, 10],\n",
        "              'gamma': [1, 0.1, 0.01],\n",
        "              'kernel': ['rbf']}\n",
        " \n",
        "grid = GridSearchCV(svm.SVR(), param_grid, refit = True, verbose = 3)\n",
        " \n",
        "# fitting the model for grid search\n",
        "grid.fit(x_train, y_train)"
      ],
      "metadata": {
        "colab": {
          "base_uri": "https://localhost:8080/"
        },
        "id": "bUW6nnUVwkEG",
        "outputId": "03da259d-b885-46dd-8443-553845cb75e0"
      },
      "execution_count": null,
      "outputs": [
        {
          "output_type": "stream",
          "name": "stdout",
          "text": [
            "Fitting 5 folds for each of 9 candidates, totalling 45 fits\n",
            "[CV 1/5] END ........C=0.1, gamma=1, kernel=rbf;, score=0.222 total time=10.6min\n",
            "[CV 2/5] END ........C=0.1, gamma=1, kernel=rbf;, score=0.214 total time=10.5min\n",
            "[CV 3/5] END ........C=0.1, gamma=1, kernel=rbf;, score=0.210 total time=10.5min\n",
            "[CV 4/5] END ........C=0.1, gamma=1, kernel=rbf;, score=0.213 total time=10.5min\n",
            "[CV 5/5] END ........C=0.1, gamma=1, kernel=rbf;, score=0.215 total time=10.4min\n",
            "[CV 1/5] END ......C=0.1, gamma=0.1, kernel=rbf;, score=0.090 total time=10.9min\n",
            "[CV 2/5] END ......C=0.1, gamma=0.1, kernel=rbf;, score=0.085 total time=10.8min\n",
            "[CV 3/5] END ......C=0.1, gamma=0.1, kernel=rbf;, score=0.087 total time=10.7min\n",
            "[CV 4/5] END ......C=0.1, gamma=0.1, kernel=rbf;, score=0.086 total time=10.8min\n",
            "[CV 5/5] END ......C=0.1, gamma=0.1, kernel=rbf;, score=0.085 total time=10.7min\n",
            "[CV 1/5] END ....C=0.1, gamma=0.01, kernel=rbf;, score=-0.015 total time= 6.7min\n",
            "[CV 2/5] END ....C=0.1, gamma=0.01, kernel=rbf;, score=-0.015 total time= 6.7min\n",
            "[CV 3/5] END ....C=0.1, gamma=0.01, kernel=rbf;, score=-0.006 total time= 6.8min\n",
            "[CV 4/5] END ....C=0.1, gamma=0.01, kernel=rbf;, score=-0.017 total time= 6.7min\n",
            "[CV 5/5] END ....C=0.1, gamma=0.01, kernel=rbf;, score=-0.020 total time= 6.7min\n",
            "[CV 1/5] END ..........C=1, gamma=1, kernel=rbf;, score=0.353 total time=10.7min\n",
            "[CV 2/5] END ..........C=1, gamma=1, kernel=rbf;, score=0.347 total time=10.6min\n",
            "[CV 3/5] END ..........C=1, gamma=1, kernel=rbf;, score=0.338 total time=11.1min\n",
            "[CV 4/5] END ..........C=1, gamma=1, kernel=rbf;, score=0.340 total time=10.7min\n",
            "[CV 5/5] END ..........C=1, gamma=1, kernel=rbf;, score=0.344 total time=10.8min\n",
            "[CV 1/5] END ........C=1, gamma=0.1, kernel=rbf;, score=0.229 total time=10.6min\n",
            "[CV 2/5] END ........C=1, gamma=0.1, kernel=rbf;, score=0.221 total time=10.5min\n",
            "[CV 3/5] END ........C=1, gamma=0.1, kernel=rbf;, score=0.216 total time=10.6min\n",
            "[CV 4/5] END ........C=1, gamma=0.1, kernel=rbf;, score=0.219 total time=10.4min\n",
            "[CV 5/5] END ........C=1, gamma=0.1, kernel=rbf;, score=0.222 total time=10.5min\n",
            "[CV 1/5] END .......C=1, gamma=0.01, kernel=rbf;, score=0.090 total time=10.8min\n",
            "[CV 2/5] END .......C=1, gamma=0.01, kernel=rbf;, score=0.086 total time=11.1min\n",
            "[CV 3/5] END .......C=1, gamma=0.01, kernel=rbf;, score=0.088 total time=10.9min\n",
            "[CV 4/5] END .......C=1, gamma=0.01, kernel=rbf;, score=0.087 total time=10.9min\n",
            "[CV 5/5] END .......C=1, gamma=0.01, kernel=rbf;, score=0.086 total time=10.9min\n",
            "[CV 1/5] END .........C=10, gamma=1, kernel=rbf;, score=0.492 total time= 6.2min\n",
            "[CV 2/5] END .........C=10, gamma=1, kernel=rbf;, score=0.489 total time= 6.1min\n",
            "[CV 3/5] END .........C=10, gamma=1, kernel=rbf;, score=0.475 total time= 6.3min\n",
            "[CV 4/5] END .........C=10, gamma=1, kernel=rbf;, score=0.479 total time= 6.2min\n",
            "[CV 5/5] END .........C=10, gamma=1, kernel=rbf;, score=0.481 total time= 6.3min\n",
            "[CV 1/5] END .......C=10, gamma=0.1, kernel=rbf;, score=0.351 total time=10.2min\n",
            "[CV 2/5] END .......C=10, gamma=0.1, kernel=rbf;, score=0.345 total time=10.3min\n",
            "[CV 3/5] END .......C=10, gamma=0.1, kernel=rbf;, score=0.336 total time=10.2min\n",
            "[CV 4/5] END .......C=10, gamma=0.1, kernel=rbf;, score=0.338 total time=10.4min\n",
            "[CV 5/5] END .......C=10, gamma=0.1, kernel=rbf;, score=0.342 total time=10.1min\n",
            "[CV 1/5] END ......C=10, gamma=0.01, kernel=rbf;, score=0.230 total time= 6.4min\n",
            "[CV 2/5] END ......C=10, gamma=0.01, kernel=rbf;, score=0.222 total time=10.1min\n",
            "[CV 3/5] END ......C=10, gamma=0.01, kernel=rbf;, score=0.216 total time=10.1min\n",
            "[CV 4/5] END ......C=10, gamma=0.01, kernel=rbf;, score=0.219 total time=10.5min\n",
            "[CV 5/5] END ......C=10, gamma=0.01, kernel=rbf;, score=0.222 total time=10.4min\n"
          ]
        },
        {
          "output_type": "execute_result",
          "data": {
            "text/plain": [
              "GridSearchCV(estimator=SVR(),\n",
              "             param_grid={'C': [0.1, 1, 10], 'gamma': [1, 0.1, 0.01],\n",
              "                         'kernel': ['rbf']},\n",
              "             verbose=3)"
            ]
          },
          "metadata": {},
          "execution_count": 55
        }
      ]
    },
    {
      "cell_type": "code",
      "source": [
        "# print best parameter after tuning\n",
        "print(grid1.best_params_)\n",
        " \n",
        "# print how our model looks after hyper-parameter tuning\n",
        "print(grid1.best_estimator_)"
      ],
      "metadata": {
        "colab": {
          "base_uri": "https://localhost:8080/"
        },
        "id": "4EOxgMHEwrUF",
        "outputId": "62d89d9c-b23c-442a-9d58-e948406ada8a"
      },
      "execution_count": null,
      "outputs": [
        {
          "output_type": "stream",
          "name": "stdout",
          "text": [
            "{'C': 10, 'gamma': 1, 'kernel': 'rbf'}\n",
            "SVR(C=10, gamma=1)\n"
          ]
        }
      ]
    },
    {
      "cell_type": "code",
      "source": [
        "grid_predictions = grid1.predict(x_test)"
      ],
      "metadata": {
        "colab": {
          "base_uri": "https://localhost:8080/",
          "height": 165
        },
        "id": "A7aCBYF345fh",
        "outputId": "ae49f0a8-2945-468c-b533-ee72ce56f201"
      },
      "execution_count": null,
      "outputs": [
        {
          "output_type": "error",
          "ename": "NameError",
          "evalue": "ignored",
          "traceback": [
            "\u001b[0;31m---------------------------------------------------------------------------\u001b[0m",
            "\u001b[0;31mNameError\u001b[0m                                 Traceback (most recent call last)",
            "\u001b[0;32m<ipython-input-11-0f83b8bf6392>\u001b[0m in \u001b[0;36m<module>\u001b[0;34m()\u001b[0m\n\u001b[0;32m----> 1\u001b[0;31m \u001b[0mgrid_predictions\u001b[0m \u001b[0;34m=\u001b[0m \u001b[0mgrid\u001b[0m\u001b[0;34m.\u001b[0m\u001b[0mpredict\u001b[0m\u001b[0;34m(\u001b[0m\u001b[0mx_test\u001b[0m\u001b[0;34m)\u001b[0m\u001b[0;34m\u001b[0m\u001b[0;34m\u001b[0m\u001b[0m\n\u001b[0m",
            "\u001b[0;31mNameError\u001b[0m: name 'grid' is not defined"
          ]
        }
      ]
    },
    {
      "cell_type": "code",
      "source": [
        "from sklearn.metrics import r2_score\n",
        "r = r2_score(y_test, grid_predictions )\n",
        "\n",
        "print(\"R score:\",r)"
      ],
      "metadata": {
        "colab": {
          "base_uri": "https://localhost:8080/",
          "height": 217
        },
        "id": "gKSrukGz58L9",
        "outputId": "f0839e23-5511-45fe-cfcb-b63644aa1bd3"
      },
      "execution_count": null,
      "outputs": [
        {
          "output_type": "error",
          "ename": "NameError",
          "evalue": "ignored",
          "traceback": [
            "\u001b[0;31m---------------------------------------------------------------------------\u001b[0m",
            "\u001b[0;31mNameError\u001b[0m                                 Traceback (most recent call last)",
            "\u001b[0;32m<ipython-input-10-3dfa0bc75718>\u001b[0m in \u001b[0;36m<module>\u001b[0;34m()\u001b[0m\n\u001b[1;32m      1\u001b[0m \u001b[0;32mfrom\u001b[0m \u001b[0msklearn\u001b[0m\u001b[0;34m.\u001b[0m\u001b[0mmetrics\u001b[0m \u001b[0;32mimport\u001b[0m \u001b[0mr2_score\u001b[0m\u001b[0;34m\u001b[0m\u001b[0;34m\u001b[0m\u001b[0m\n\u001b[0;32m----> 2\u001b[0;31m \u001b[0mr\u001b[0m \u001b[0;34m=\u001b[0m \u001b[0mr2_score\u001b[0m\u001b[0;34m(\u001b[0m\u001b[0my_test\u001b[0m\u001b[0;34m,\u001b[0m \u001b[0mgrid_predictions\u001b[0m \u001b[0;34m)\u001b[0m\u001b[0;34m\u001b[0m\u001b[0;34m\u001b[0m\u001b[0m\n\u001b[0m\u001b[1;32m      3\u001b[0m \u001b[0;34m\u001b[0m\u001b[0m\n\u001b[1;32m      4\u001b[0m \u001b[0mprint\u001b[0m\u001b[0;34m(\u001b[0m\u001b[0;34m\"R score:\"\u001b[0m\u001b[0;34m,\u001b[0m\u001b[0mr\u001b[0m\u001b[0;34m)\u001b[0m\u001b[0;34m\u001b[0m\u001b[0;34m\u001b[0m\u001b[0m\n",
            "\u001b[0;31mNameError\u001b[0m: name 'grid_predictions' is not defined"
          ]
        }
      ]
    },
    {
      "cell_type": "markdown",
      "source": [
        "#SVM with Grid Search Params"
      ],
      "metadata": {
        "id": "kVZgMhqVy61h"
      }
    },
    {
      "cell_type": "code",
      "source": [
        "from sklearn import svm\n",
        "\n",
        "regress= svm.SVR(C=10000, gamma=1)\n",
        "regress.fit(x_train,y_train)\n"
      ],
      "metadata": {
        "id": "ocBkoWpkzEiM",
        "colab": {
          "base_uri": "https://localhost:8080/"
        },
        "outputId": "92ffd825-3786-4249-b481-b974ec1edc7c"
      },
      "execution_count": null,
      "outputs": [
        {
          "output_type": "execute_result",
          "data": {
            "text/plain": [
              "SVR(C=10000, gamma=1)"
            ]
          },
          "metadata": {},
          "execution_count": 8
        }
      ]
    },
    {
      "cell_type": "code",
      "source": [
        "y_pred= regress.predict(x_test)"
      ],
      "metadata": {
        "id": "hi6TjSCkZCjn"
      },
      "execution_count": null,
      "outputs": []
    },
    {
      "cell_type": "code",
      "source": [
        "from sklearn.metrics import mean_squared_error\n",
        "from sklearn.metrics import mean_absolute_error\n",
        "from sklearn.metrics import r2_score\n",
        "\n",
        "mse = mean_squared_error(y_test, y_pred)\n",
        "r = r2_score(y_test, y_pred)\n",
        "mae = mean_absolute_error(y_test,y_pred)\n",
        "print(\"Mean Squared Error:\",mse)\n",
        "print(\"R score:\",r)\n",
        "print(\"Mean Absolute Error:\",mae)"
      ],
      "metadata": {
        "colab": {
          "base_uri": "https://localhost:8080/"
        },
        "id": "IuVtbl0AzFpL",
        "outputId": "64fa400b-d7d6-4256-d9e5-99b53b36a857"
      },
      "execution_count": null,
      "outputs": [
        {
          "output_type": "stream",
          "name": "stdout",
          "text": [
            "Mean Squared Error: 216.83890823454482\n",
            "R score: 0.48939255152442074\n",
            "Mean Absolute Error: 9.392049474577139\n"
          ]
        }
      ]
    },
    {
      "cell_type": "markdown",
      "source": [
        "#Best Feature Selection"
      ],
      "metadata": {
        "id": "eycwXia2ykJh"
      }
    },
    {
      "cell_type": "code",
      "source": [
        "from sklearn import svm\n",
        "from sklearn.feature_selection import SelectKBest\n",
        "anova_filter = SelectKBest(k=30)\n",
        "clf = svm.SVR(C=10000, gamma=1)\n",
        "pipe = Pipeline(steps=[('anova', anova_filter),('rf', clf)])"
      ],
      "metadata": {
        "id": "9FzOYqt5orNx"
      },
      "execution_count": null,
      "outputs": []
    },
    {
      "cell_type": "code",
      "source": [
        "# Fit the pipeline to the training data.\n",
        "pipe.fit(x_train,y_train)\n",
        "\n",
        "# Predict the dependent variable of the test set.\n",
        "y_pred = pipe.predict(x_test)"
      ],
      "metadata": {
        "id": "penC1tOKpDFZ"
      },
      "execution_count": null,
      "outputs": []
    },
    {
      "cell_type": "code",
      "source": [
        "from sklearn.metrics import mean_squared_error\n",
        "from sklearn.metrics import mean_absolute_error\n",
        "from sklearn.metrics import r2_score\n",
        "\n",
        "mse = mean_squared_error(y_test, y_pred)\n",
        "r = r2_score(y_test, y_pred)\n",
        "mae = mean_absolute_error(y_test,y_pred)\n",
        "print(\"Mean Squared Error:\",mse)\n",
        "print(\"R score:\",r)\n",
        "print(\"Mean Absolute Error:\",mae)"
      ],
      "metadata": {
        "colab": {
          "base_uri": "https://localhost:8080/"
        },
        "id": "SGpQRjgUsuNV",
        "outputId": "c3bec438-d28c-4f3f-b9c4-240f465b82e7"
      },
      "execution_count": null,
      "outputs": [
        {
          "output_type": "stream",
          "name": "stdout",
          "text": [
            "Mean Squared Error: 271.0344664415475\n",
            "R score: 0.36177405390288153\n",
            "Mean Absolute Error: 9.901387289701766\n"
          ]
        }
      ]
    },
    {
      "cell_type": "markdown",
      "source": [
        "#Principal Component Analysis"
      ],
      "metadata": {
        "id": "IpXnRgiYytk0"
      }
    },
    {
      "cell_type": "code",
      "source": [
        "# Compute a PCA (eigenfaces) on the face dataset (treated as unlabeled\n",
        "# dataset): unsupervised feature extraction / dimensionality reduction\n",
        "from sklearn.decomposition import PCA\n",
        "n_components = 148\n",
        "print(\"Extracting the top %d eigenfaces from %d faces\"\n",
        "      % (n_components, x_train.shape[0]))\n",
        "\n",
        "pca = PCA(n_components=n_components, whiten=True).fit(x_train)"
      ],
      "metadata": {
        "colab": {
          "base_uri": "https://localhost:8080/"
        },
        "id": "Ps1BRVK2Ui6S",
        "outputId": "95ad5079-294c-4561-9850-8780de85c526"
      },
      "execution_count": null,
      "outputs": [
        {
          "output_type": "stream",
          "name": "stdout",
          "text": [
            "Extracting the top 148 eigenfaces from 71478 faces\n"
          ]
        }
      ]
    },
    {
      "cell_type": "code",
      "source": [
        "variance = pca.explained_variance_ratio_ #calculate variance ratios\n",
        "\n",
        "var=np.cumsum(np.round(pca.explained_variance_ratio_, decimals=3)*100)"
      ],
      "metadata": {
        "id": "EH01aBb-U5Xu"
      },
      "execution_count": null,
      "outputs": []
    },
    {
      "cell_type": "code",
      "source": [
        "plt.ylabel('% Variance Explained')\n",
        "plt.xlabel('# of Features')\n",
        "plt.title('PCA Analysis')\n",
        "plt.ylim(80,101)\n",
        "plt.style.context('seaborn-whitegrid')\n",
        "plt.plot(var)"
      ],
      "metadata": {
        "colab": {
          "base_uri": "https://localhost:8080/",
          "height": 311
        },
        "id": "hLlTKXAfU6mZ",
        "outputId": "8973948a-5736-4ae9-e121-c09a4c8433b5"
      },
      "execution_count": null,
      "outputs": [
        {
          "output_type": "execute_result",
          "data": {
            "text/plain": [
              "[<matplotlib.lines.Line2D at 0x7f35ea613690>]"
            ]
          },
          "metadata": {},
          "execution_count": 10
        },
        {
          "output_type": "display_data",
          "data": {
            "text/plain": [
              "<Figure size 432x288 with 1 Axes>"
            ],
            "image/png": "[encoded data removed]"
          },
          "metadata": {
            "needs_background": "light"
          }
        }
      ]
    },
    {
      "cell_type": "code",
      "source": [
        "pca = PCA(n_components=30)"
      ],
      "metadata": {
        "id": "LIcvSv3HuiDW"
      },
      "execution_count": null,
      "outputs": []
    },
    {
      "cell_type": "code",
      "source": [
        "from sklearn import svm\n",
        "clf = svm.SVR(C=10000, gamma=1)\n",
        "pipe = Pipeline(steps=[('pca', pca),('rf', clf)])"
      ],
      "metadata": {
        "id": "geo820n0utuz"
      },
      "execution_count": null,
      "outputs": []
    },
    {
      "cell_type": "code",
      "source": [
        "pipe"
      ],
      "metadata": {
        "colab": {
          "base_uri": "https://localhost:8080/"
        },
        "id": "Obq5k52suzJ1",
        "outputId": "3a9ce55a-8aa2-493f-c39b-4b89bcb9e9b9"
      },
      "execution_count": null,
      "outputs": [
        {
          "output_type": "execute_result",
          "data": {
            "text/plain": [
              "Pipeline(steps=[('pca', PCA(n_components=30)), ('rf', SVR(C=10000, gamma=1))])"
            ]
          },
          "metadata": {},
          "execution_count": 13
        }
      ]
    },
    {
      "cell_type": "code",
      "source": [
        "# Fit the pipeline to the training data.\n",
        "pipe.fit(x_train, y_train)\n"
      ],
      "metadata": {
        "id": "Wn_iHGe5u3SI",
        "colab": {
          "base_uri": "https://localhost:8080/"
        },
        "outputId": "49e68e74-89e8-4c7e-edd4-10aab2dac92b"
      },
      "execution_count": null,
      "outputs": [
        {
          "output_type": "execute_result",
          "data": {
            "text/plain": [
              "Pipeline(steps=[('pca', PCA(n_components=30)), ('rf', SVR(C=10000, gamma=1))])"
            ]
          },
          "metadata": {},
          "execution_count": 14
        }
      ]
    },
    {
      "cell_type": "code",
      "source": [
        "# Predict the dependent variable of the test set.\n",
        "y_pred = pipe.predict(x_test)"
      ],
      "metadata": {
        "id": "sdlQTt14cUR-"
      },
      "execution_count": null,
      "outputs": []
    },
    {
      "cell_type": "code",
      "source": [
        "from sklearn.metrics import mean_squared_error\n",
        "from sklearn.metrics import mean_absolute_error\n",
        "from sklearn.metrics import r2_score\n",
        "\n",
        "mse = mean_squared_error(y_test, y_pred)\n",
        "r = r2_score(y_test, y_pred)\n",
        "mae = mean_absolute_error(y_test,y_pred)\n",
        "print(\"Mean Squared Error:\",mse)\n",
        "print(\"R score:\",r)\n",
        "print(\"Mean Absolute Error:\",mae)"
      ],
      "metadata": {
        "colab": {
          "base_uri": "https://localhost:8080/"
        },
        "id": "7TtPTM6Lu9rb",
        "outputId": "d382bcf5-1620-4a4d-8f78-b4977b886acb"
      },
      "execution_count": null,
      "outputs": [
        {
          "output_type": "stream",
          "name": "stdout",
          "text": [
            "Mean Squared Error: 134.48169674298978\n",
            "R score: 0.6833254852660932\n",
            "Mean Absolute Error: 7.221008635485837\n"
          ]
        }
      ]
    },
    {
      "cell_type": "markdown",
      "source": [
        "#PCA + Best Feature"
      ],
      "metadata": {
        "id": "9TVXXvYUyz0m"
      }
    },
    {
      "cell_type": "code",
      "source": [
        "from sklearn.pipeline import FeatureUnion"
      ],
      "metadata": {
        "id": "MaPdDyJ7wNKA"
      },
      "execution_count": null,
      "outputs": []
    },
    {
      "cell_type": "code",
      "source": [
        "union = FeatureUnion([(\"pca\", PCA(n_components=50)),\n",
        "                      (\"anova_filter\", SelectKBest(k=50))])"
      ],
      "metadata": {
        "id": "YR8StVt1wPzy"
      },
      "execution_count": null,
      "outputs": []
    },
    {
      "cell_type": "code",
      "source": [
        "pipe = Pipeline(steps=[('PCA_Anova_filter', union),('rf', svm.SVR(C=10000, gamma=1))])"
      ],
      "metadata": {
        "id": "BkG2QTfIwQ2N"
      },
      "execution_count": null,
      "outputs": []
    },
    {
      "cell_type": "code",
      "source": [
        "# Fit the pipeline to the training data.\n",
        "pipe.fit(x_train, y_train)\n",
        "\n",
        "# Predict the dependent variable of the test set.\n",
        "y_pred = pipe.predict(x_test)"
      ],
      "metadata": {
        "id": "wxmOZpd_wYSD"
      },
      "execution_count": null,
      "outputs": []
    },
    {
      "cell_type": "code",
      "source": [
        "mse = mean_squared_error(y_test, y_pred)\n",
        "r = r2_score(y_test, y_pred)\n",
        "mae = mean_absolute_error(y_test,y_pred)\n",
        "print(\"Mean Squared Error:\",mse)\n",
        "print(\"R score:\",r)\n",
        "print(\"Mean Absolute Error:\",mae)"
      ],
      "metadata": {
        "colab": {
          "base_uri": "https://localhost:8080/"
        },
        "id": "2CiCsuyHwd_6",
        "outputId": "94a5f5b8-87ab-405f-85b9-87a320471a32"
      },
      "execution_count": null,
      "outputs": [
        {
          "output_type": "stream",
          "name": "stdout",
          "text": [
            "Mean Squared Error: 121.36570945794621\n",
            "R score: 0.7142107210218933\n",
            "Mean Absolute Error: 6.886433755660808\n"
          ]
        }
      ]
    },
    {
      "cell_type": "markdown",
      "source": [
        "#Linear Regression"
      ],
      "metadata": {
        "id": "Rip82ch2UUkY"
      }
    },
    {
      "cell_type": "code",
      "source": [
        "from sklearn.linear_model import LinearRegression\n",
        "reg = LinearRegression().fit(x_train, y_train)"
      ],
      "metadata": {
        "id": "2MoH464AUecr"
      },
      "execution_count": 18,
      "outputs": []
    },
    {
      "cell_type": "code",
      "source": [
        "y_pred= reg.predict(x_test)"
      ],
      "metadata": {
        "id": "1s-2QgSKUu0E"
      },
      "execution_count": 19,
      "outputs": []
    },
    {
      "cell_type": "code",
      "source": [
        "from sklearn.metrics import mean_squared_error\n",
        "from sklearn.metrics import mean_absolute_error\n",
        "from sklearn.metrics import r2_score\n",
        "\n",
        "mse = mean_squared_error(y_test, y_pred)\n",
        "r = r2_score(y_test, y_pred)\n",
        "mae = mean_absolute_error(y_test,y_pred)\n",
        "print(\"Mean Squared Error:\",mse)\n",
        "print(\"R score:\",r)\n",
        "print(\"Mean Absolute Error:\",mae)"
      ],
      "metadata": {
        "colab": {
          "base_uri": "https://localhost:8080/"
        },
        "id": "UMm66AVtUxfG",
        "outputId": "d54931d7-e1ad-4d67-916b-29298bb5b9f8"
      },
      "execution_count": 20,
      "outputs": [
        {
          "output_type": "stream",
          "name": "stdout",
          "text": [
            "Mean Squared Error: 126.64792486022084\n",
            "R score: 0.7017722774288437\n",
            "Mean Absolute Error: 7.286893895567309\n"
          ]
        }
      ]
    }
  ]
}